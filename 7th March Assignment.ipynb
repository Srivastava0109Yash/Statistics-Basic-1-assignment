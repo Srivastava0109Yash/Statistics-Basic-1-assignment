{
 "cells": [
  {
   "cell_type": "markdown",
   "id": "d7dfd6ed",
   "metadata": {},
   "source": [
    "### Q1. What are the three measures of central tendency?"
   ]
  },
  {
   "cell_type": "markdown",
   "id": "956e609e",
   "metadata": {},
   "source": [
    "The three measures of central tendency are:\n",
    "\n",
    "__1.  Mean:__ the arithmetic average of a set of data, calculated by adding up all the values and dividing by the number of observations.\n",
    "\n",
    "__2.  Median:__ the middle value in a dataset when the values are arranged in order from smallest to largest. If there are an even number of observations, the median is the average of the two middle values.\n",
    "\n",
    "__3.  Mode:__ the value that occurs most frequently in a dataset. A dataset can have multiple modes if two or more values occur with the same frequency.\n",
    "\n",
    "\n",
    "\n"
   ]
  },
  {
   "cell_type": "code",
   "execution_count": null,
   "id": "d57a4e1c",
   "metadata": {},
   "outputs": [],
   "source": []
  },
  {
   "cell_type": "markdown",
   "id": "bc4bd04e",
   "metadata": {},
   "source": [
    "### Q2. What is the difference between the mean, median, and mode? How are they used to measure the  central tendency of a dataset?"
   ]
  },
  {
   "cell_type": "markdown",
   "id": "17c50889",
   "metadata": {},
   "source": [
    "The mean, median, and mode are all measures of central tendency used to describe the typical or central value of a dataset. However, they differ in the way they are calculated and their sensitivity to outliers.\n",
    "\n",
    "__Mean__ is the arithmetic average of a set of data and is calculated by adding up all the values and dividing by the number of observations. The mean is sensitive to extreme values, or outliers, in the dataset, as even a single outlier can greatly affect its value.\n",
    "\n",
    "__Median__ is the middle value in a dataset when the values are arranged in order from smallest to largest. The median is less sensitive to outliers than the mean, making it a better measure of central tendency for skewed datasets.\n",
    "\n",
    "__Mode__ is the value that occurs most frequently in a dataset. The mode is useful for identifying the most common value in a dataset, but it may not be a good measure of central tendency if the dataset has multiple modes or a wide range of values."
   ]
  },
  {
   "cell_type": "code",
   "execution_count": null,
   "id": "a5465f1e",
   "metadata": {},
   "outputs": [],
   "source": []
  },
  {
   "cell_type": "markdown",
   "id": "dc7ec7b4",
   "metadata": {},
   "source": [
    "### Q3. Measure the three measures of central tendency for the given height data:\n",
    "\n",
    " [178,177,176,177,178.2,178,175,179,180,175,178.9,176.2,177,172.5,178,176.5]"
   ]
  },
  {
   "cell_type": "code",
   "execution_count": 1,
   "id": "3e999c61",
   "metadata": {},
   "outputs": [],
   "source": [
    "import numpy as np"
   ]
  },
  {
   "cell_type": "code",
   "execution_count": 2,
   "id": "639509dc",
   "metadata": {},
   "outputs": [],
   "source": [
    "data=[178,177,176,177,178.2,178,175,179,180,175,178.9,176.2,177,172.5,178,176.5]"
   ]
  },
  {
   "cell_type": "markdown",
   "id": "e20a177b",
   "metadata": {},
   "source": [
    "__Mean__ "
   ]
  },
  {
   "cell_type": "code",
   "execution_count": 3,
   "id": "53ca403f",
   "metadata": {},
   "outputs": [
    {
     "data": {
      "text/plain": [
       "177.01875"
      ]
     },
     "execution_count": 3,
     "metadata": {},
     "output_type": "execute_result"
    }
   ],
   "source": [
    "np.mean(data)"
   ]
  },
  {
   "cell_type": "markdown",
   "id": "7e8c8a01",
   "metadata": {},
   "source": [
    "__Median__"
   ]
  },
  {
   "cell_type": "code",
   "execution_count": 4,
   "id": "644e0108",
   "metadata": {},
   "outputs": [
    {
     "data": {
      "text/plain": [
       "177.0"
      ]
     },
     "execution_count": 4,
     "metadata": {},
     "output_type": "execute_result"
    }
   ],
   "source": [
    "np.median(data)"
   ]
  },
  {
   "cell_type": "markdown",
   "id": "933c7c51",
   "metadata": {},
   "source": [
    "__Mode__"
   ]
  },
  {
   "cell_type": "code",
   "execution_count": 5,
   "id": "d434d461",
   "metadata": {},
   "outputs": [],
   "source": [
    "import statistics as st"
   ]
  },
  {
   "cell_type": "code",
   "execution_count": 6,
   "id": "2e643d52",
   "metadata": {},
   "outputs": [
    {
     "data": {
      "text/plain": [
       "178"
      ]
     },
     "execution_count": 6,
     "metadata": {},
     "output_type": "execute_result"
    }
   ],
   "source": [
    "st.mode(data)"
   ]
  },
  {
   "cell_type": "markdown",
   "id": "0dbd50de",
   "metadata": {},
   "source": [
    "### Q4. Find the standard deviation for the given data:\n",
    "\n",
    "[178,177,176,177,178.2,178,175,179,180,175,178.9,176.2,177,172.5,178,176.5]"
   ]
  },
  {
   "cell_type": "code",
   "execution_count": 9,
   "id": "91ea4c56",
   "metadata": {},
   "outputs": [
    {
     "name": "stdout",
     "output_type": "stream",
     "text": [
      "Standard deviation: 1.7885814036548633\n"
     ]
    }
   ],
   "source": [
    "import numpy as np\n",
    "\n",
    "data=[178,177,176,177,178.2,178,175,179,180,175,178.9,176.2,177,172.5,178,176.5]\n",
    "\n",
    "stdev=np.std(data)\n",
    "\n",
    "print(\"Standard deviation:\", stdev)"
   ]
  },
  {
   "cell_type": "code",
   "execution_count": null,
   "id": "1d2031cd",
   "metadata": {},
   "outputs": [],
   "source": []
  },
  {
   "cell_type": "markdown",
   "id": "f1ed1afa",
   "metadata": {},
   "source": [
    "### Q5. How are measures of dispersion such as range, variance, and standard deviation used to describe  the spread of a dataset? Provide an example."
   ]
  },
  {
   "cell_type": "markdown",
   "id": "01721c69",
   "metadata": {},
   "source": [
    "__Range__ is the simplest measure of dispersion, and it is defined as the difference between the maximum and minimum values in a dataset. The range gives an idea of how widely the data are distributed.\n",
    "\n",
    "For example, suppose you have a dataset of the heights of 10 people, and the heights are as follows: 160 cm, 165 cm, 170 cm, 175 cm, 180 cm, 185 cm, 190 cm, 195 cm, 200 cm, and 205 cm. The range of the data is 205 cm - 160 cm = 45 cm, which means that the heights in the dataset range from 160 cm to 205 cm."
   ]
  },
  {
   "cell_type": "markdown",
   "id": "28c77928",
   "metadata": {},
   "source": [
    "__Variance__ is a measure of how much the data vary from the mean, and it is calculated by subtracting the mean from each data point, squaring the differences, summing the squares, and dividing the sum by the number of data points minus one.\n",
    "\n",
    "For example, if we take the same dataset of heights, the mean is (160+165+170+175+180+185+190+195+200+205)/10 = 180.5 cm. The variance is calculated as follows:\n",
    "\n",
    "((160-180.5)^2 + (165-180.5)^2 + (170-180.5)^2 + (175-180.5)^2 + (180-180.5)^2 + (185-180.5)^2 + (190-180.5)^2 + (195-180.5)^2 + (200-180.5)^2 + (205-180.5)^2)/9 = 306.67 cm^2"
   ]
  },
  {
   "cell_type": "markdown",
   "id": "fa9bf447",
   "metadata": {},
   "source": [
    "__Standard deviation__ is the square root of the variance, and it is a commonly used measure of dispersion because it is expressed in the same units as the data.\n",
    "\n",
    "For example, the standard deviation is the square root of 306.67 cm^2, which is approximately 17.49 cm. This means that the heights in the dataset vary from the mean height of 180.5 cm by an average of 17.49 cm"
   ]
  },
  {
   "cell_type": "code",
   "execution_count": null,
   "id": "f28d82f4",
   "metadata": {},
   "outputs": [],
   "source": []
  },
  {
   "cell_type": "markdown",
   "id": "344dc9ea",
   "metadata": {},
   "source": [
    "### Q6. What is a Venn diagram?"
   ]
  },
  {
   "cell_type": "markdown",
   "id": "3c7445c2",
   "metadata": {},
   "source": [
    "A Venn diagram is a visual tool used to illustrate the relationships between different sets of data. It consists of overlapping circles or other shapes that represent each set, and the areas of overlap show the elements that are shared between the sets."
   ]
  },
  {
   "cell_type": "markdown",
   "id": "887219d3",
   "metadata": {},
   "source": [
    "Each circle in a Venn diagram represents a set of data, and the elements of each set are placed within the circle. The area of overlap between two or more circles represents the elements that are common to those sets. If a circle is completely contained within another circle, it means that one set is a subset of another set.\n",
    "\n",
    "For example, suppose you have two sets of data: set A contains the numbers {1, 2, 3, 4, 5}, and set B contains the numbers {4, 5, 6, 7, 8}. The Venn diagram for these two sets would consist of two overlapping circles, one for set A and one for set B. The elements that are common to both sets (4 and 5) would be placed in the area of overlap between the circles."
   ]
  },
  {
   "cell_type": "code",
   "execution_count": null,
   "id": "a1ebeb71",
   "metadata": {},
   "outputs": [],
   "source": []
  },
  {
   "cell_type": "markdown",
   "id": "2267292c",
   "metadata": {},
   "source": [
    "### Q7. For the two given sets A = (2,3,4,5,6,7) & B = (0,2,6,8,10). Find:\n",
    "\n",
    "(i) \tA ⋂ B\n",
    "\n",
    "(ii)\tA ⋃ B"
   ]
  },
  {
   "cell_type": "markdown",
   "id": "11485d79",
   "metadata": {},
   "source": [
    "__Intersection__\n",
    "\n",
    "i) A ⋂ B={2,6}"
   ]
  },
  {
   "cell_type": "code",
   "execution_count": 11,
   "id": "7d480fcf",
   "metadata": {},
   "outputs": [
    {
     "data": {
      "text/plain": [
       "{2, 6}"
      ]
     },
     "execution_count": 11,
     "metadata": {},
     "output_type": "execute_result"
    }
   ],
   "source": [
    "A={2,3,4,5,6,7}\n",
    "B={0,2,6,8,10}\n",
    "\n",
    "A.intersection(B)"
   ]
  },
  {
   "cell_type": "markdown",
   "id": "bdaf1f50",
   "metadata": {},
   "source": [
    "__Union__\n",
    "\n",
    "(ii) A ⋃ B={0,2,3,4,5,6,7,8,10}"
   ]
  },
  {
   "cell_type": "code",
   "execution_count": 12,
   "id": "e6f11ba0",
   "metadata": {},
   "outputs": [
    {
     "data": {
      "text/plain": [
       "{0, 2, 3, 4, 5, 6, 7, 8, 10}"
      ]
     },
     "execution_count": 12,
     "metadata": {},
     "output_type": "execute_result"
    }
   ],
   "source": [
    "A={2,3,4,5,6,7}\n",
    "B={0,2,6,8,10}\n",
    "\n",
    "A.union(B)"
   ]
  },
  {
   "cell_type": "markdown",
   "id": "10233393",
   "metadata": {},
   "source": [
    "### Q8. What do you understand about skewness in data?"
   ]
  },
  {
   "cell_type": "markdown",
   "id": "3d355b2a",
   "metadata": {},
   "source": [
    "__Skewness__ is a measure of the asymmetry of a distribution of data around its mean. A distribution is said to be skewed if it is not symmetrical, meaning that the distribution does not have a mirror image on either side of the mean.\n",
    "\n",
    "Skewness can be classified into three types:\n",
    "\n",
    "__Positive skewness__: This occurs when the tail of the distribution is longer on the positive side of the mean than on the negative side. In other words, the data has a long tail towards the higher values, and there are more values on the lower side of the mean.\n",
    "\n",
    "__Negative skewness__: This occurs when the tail of the distribution is longer on the negative side of the mean than on the positive side. In other words, the data has a long tail towards the lower values, and there are more values on the higher side of the mean.\n",
    "\n",
    "__Zero skewness__: This occurs when the distribution is perfectly symmetrical, with the same number of values on both sides of the mean."
   ]
  },
  {
   "cell_type": "markdown",
   "id": "cf21772e",
   "metadata": {},
   "source": [
    "### Q9. If a data is right skewed then what will be the position of median with respect to mean?"
   ]
  },
  {
   "cell_type": "markdown",
   "id": "2a56b67e",
   "metadata": {},
   "source": [
    "If a dataset is right-skewed, the tail of the distribution extends further to the right, indicating that there are more extreme values on the right side of the distribution. In such cases, the mean will be greater than the median."
   ]
  },
  {
   "cell_type": "markdown",
   "id": "22a5eb21",
   "metadata": {},
   "source": [
    "![](skewness.jpg)"
   ]
  },
  {
   "cell_type": "code",
   "execution_count": null,
   "id": "882a0f54",
   "metadata": {},
   "outputs": [],
   "source": []
  },
  {
   "cell_type": "markdown",
   "id": "0e1f3e1c",
   "metadata": {},
   "source": [
    "### Q10. Explain the difference between covariance and correlation. How are these measures used in  statistical analysis?"
   ]
  },
  {
   "cell_type": "markdown",
   "id": "75a8049d",
   "metadata": {},
   "source": [
    "Covariance measures the degree to which two variables vary together. It is calculated as the average of the product of the deviations of each variable from their respective means. The resulting value can be positive or negative, indicating the direction of the relationship (positive if the variables tend to move in the same direction, negative if they tend to move in opposite directions). However, the magnitude of the covariance is not standardized and depends on the scales of the two variables being compared.\n",
    "\n",
    "Correlation, on the other hand, measures the strength and direction of the linear relationship between two variables. It is calculated by dividing the covariance by the product of the standard deviations of the two variables, which standardizes the measure to a scale between -1 and 1. A correlation coefficient of 1 indicates a perfect positive correlation, -1 indicates a perfect negative correlation, and 0 indicates no correlation.\n",
    "\n",
    "In statistical analysis, covariance and correlation are both used to assess the relationship between two variables. However, correlation is more commonly used because it is standardized and easier to interpret. Correlation is also useful for identifying trends and making predictions. For example, a high positive correlation between two variables indicates that they tend to increase or decrease together, and this information can be used to make predictions about future values. In contrast, covariance is useful for understanding the direction of the relationship between two variables but does not provide information on the strength or magnitude of the relationship."
   ]
  },
  {
   "cell_type": "code",
   "execution_count": null,
   "id": "8c70e499",
   "metadata": {},
   "outputs": [],
   "source": []
  },
  {
   "cell_type": "markdown",
   "id": "dbdf333f",
   "metadata": {},
   "source": [
    "### Q11. What is the formula for calculating the sample mean? Provide an example calculation for a dataset."
   ]
  },
  {
   "cell_type": "markdown",
   "id": "20252501",
   "metadata": {},
   "source": [
    "The formula for calculating the sample mean is:\n",
    "\n",
    "sample mean = sum of all data values / number of data values\n",
    "\n",
    "To calculate the sample mean, you add up all the values in the dataset and divide by the number of values. For example, let's consider the following dataset:\n",
    "\n",
    "5, 10, 15, 20, 25\n",
    "\n",
    "To find the sample mean, we need to add up all the values and divide by 5 (since there are 5 values in the dataset):\n",
    "\n",
    "sample mean = (5 + 10 + 15 + 20 + 25) / 5\n",
    "= 75 / 5\n",
    "= 15\n",
    "\n",
    "Therefore, the sample mean of this dataset is 15."
   ]
  },
  {
   "cell_type": "code",
   "execution_count": null,
   "id": "313d38ea",
   "metadata": {},
   "outputs": [],
   "source": []
  },
  {
   "cell_type": "markdown",
   "id": "d2b8cbc6",
   "metadata": {},
   "source": [
    "### Q12. For a normal distribution data what is the relationship between its measure of central tendency?\n"
   ]
  },
  {
   "cell_type": "markdown",
   "id": "2c5d6c2e",
   "metadata": {},
   "source": [
    "For a normal distribution, the measures of central tendency (mean, median, and mode) are all equal. This is one of the defining characteristics of a normal distribution, and it occurs because the shape of the normal distribution is symmetric around the mean.\n",
    "\n",
    "__In other words, if you were to draw a bell curve to represent a normal distribution, the highest point of the curve(mode)  would be at the same point as the mean and median. This occurs because the normal distribution is a symmetric distribution__, with half of the data points falling to the left of the mean and half falling to the right.\n",
    "\n",
    "This relationship between the measures of central tendency is important because it allows us to use any of the three measures to describe the typical or central value of the data. However, in practice, the mean is often used as the primary measure of central tendency for normal distributions because it is a more precise estimator of the center of the distribution than the median or mode."
   ]
  },
  {
   "cell_type": "code",
   "execution_count": null,
   "id": "9a761fc1",
   "metadata": {},
   "outputs": [],
   "source": []
  },
  {
   "cell_type": "markdown",
   "id": "ffeae139",
   "metadata": {},
   "source": [
    "### Q13. How is covariance different from correlation?\n"
   ]
  },
  {
   "cell_type": "markdown",
   "id": "50a4c68e",
   "metadata": {},
   "source": [
    "__Covariance__ measures the degree to which two variables vary together. It is calculated as the average of the product of the deviations of each variable from their respective means. The resulting value can be positive or negative, indicating the direction of the relationship (positive if the variables tend to move in the same direction, negative if they tend to move in opposite directions). However, the magnitude of the covariance is not standardized and depends on the scales of the two variables being compared.\n",
    "\n",
    "__Correlation__ measures the strength and direction of the linear relationship between two variables. It is calculated by dividing the covariance by the product of the standard deviations of the two variables, which standardizes the measure to a scale between -1 and 1. A correlation coefficient of 1 indicates a perfect positive correlation, -1 indicates a perfect negative correlation, and 0 indicates no correlation.\n",
    "\n",
    "___The main differences between covariance and correlation are___:\n",
    "\n",
    "__Scale__: Covariance has an unbounded scale, while correlation has a bounded scale between -1 and 1.\n",
    "\n",
    "__Interpretation__: Covariance is difficult to interpret because its magnitude depends on the scales of the two variables being compared. Correlation, on the other hand, is more easily interpretable because its scale is standardized and provides a clear indication of the strength and direction of the relationship between the two variables.\n",
    "\n",
    "__Significance__: Correlation is often used to assess the statistical significance of the relationship between two variables, while covariance is not as commonly used for this purpose."
   ]
  },
  {
   "cell_type": "code",
   "execution_count": null,
   "id": "e864806a",
   "metadata": {},
   "outputs": [],
   "source": []
  },
  {
   "cell_type": "markdown",
   "id": "68bd0ab5",
   "metadata": {},
   "source": [
    "### Q14. How do outliers affect measures of central tendency and dispersion? Provide an example.\n"
   ]
  },
  {
   "cell_type": "markdown",
   "id": "de5af191",
   "metadata": {},
   "source": [
    "For example, consider the following dataset of test scores for a class of students:\n",
    "\n",
    "85, 90, 92, 95, 97, 98, 100, 100, 100, 100, 100\n",
    "\n",
    "If we add an outlier score of 50 to this dataset, the measures of central tendency and dispersion will be affected as follows:\n",
    "\n",
    "__Mean__: The mean will be pulled towards the outlier, resulting in a lower mean score.\n",
    "\n",
    "__Median__: The median will remain the same since it is not affected by extreme values.\n",
    "\n",
    "__Mode__: The mode will change to 100, since it is the most frequently occurring value.\n",
    "\n",
    "__Range__: The range will increase, since the difference between the maximum and minimum values is now 100 - 50 = 50.\n",
    "\n",
    "__Variance and standard deviation__: The variance and standard deviation will increase, since the outlier increases the variability of the dataset around the mean."
   ]
  },
  {
   "cell_type": "markdown",
   "id": "fac02d4e",
   "metadata": {},
   "source": [
    "In terms of central tendency, outliers can have a strong influence on the mean, pulling it towards the direction of the outlier. This is because the mean is sensitive to extreme values. On the other hand, the median is less affected by outliers because it is simply the middle value of a sorted dataset and is not influenced by extreme values. The mode may also be affected by outliers if the outlier is the most frequently occurring value.\n",
    "\n",
    "In terms of dispersion, outliers can affect the range, variance, and standard deviation of the dataset. The range, which is the difference between the maximum and minimum values, will increase if an outlier is present. The variance and standard deviation, which measure the spread of the data around the mean, will also increase if outliers are present because the outliers will increase the variability of the dataset."
   ]
  },
  {
   "cell_type": "code",
   "execution_count": null,
   "id": "7ce90db0",
   "metadata": {},
   "outputs": [],
   "source": []
  }
 ],
 "metadata": {
  "kernelspec": {
   "display_name": "Python 3 (ipykernel)",
   "language": "python",
   "name": "python3"
  },
  "language_info": {
   "codemirror_mode": {
    "name": "ipython",
    "version": 3
   },
   "file_extension": ".py",
   "mimetype": "text/x-python",
   "name": "python",
   "nbconvert_exporter": "python",
   "pygments_lexer": "ipython3",
   "version": "3.9.7"
  }
 },
 "nbformat": 4,
 "nbformat_minor": 5
}
