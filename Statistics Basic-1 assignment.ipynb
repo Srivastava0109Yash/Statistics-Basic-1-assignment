{
 "cells": [
  {
   "cell_type": "markdown",
   "id": "031c5244",
   "metadata": {},
   "source": [
    "### Q1. What is Statistics?"
   ]
  },
  {
   "cell_type": "markdown",
   "id": "c57d20cd",
   "metadata": {},
   "source": [
    "__Statistics__ is the branch of mathematics that deals with the collection, analysis, interpretation, presentation, and organization of data. It involves the application of mathematical and statistical methods to make sense of large amounts of data and to draw conclusions from them.\n",
    "\n",
    "Statistics is used in many fields such as science, business, medicine, social sciences, and engineering, to name a few. The data that are analyzed in statistics can be in the form of numbers, texts, images, or any other type of information that can be collected and measured.\n",
    "\n",
    "The main goal of statistics is to provide a better understanding of the data by summarizing, visualizing, and analyzing it. The results obtained from statistical analysis can be used to make informed decisions, identify trends, and make predictions about future events. In addition, statistics plays a crucial role in hypothesis testing, experimental design, and probability theory."
   ]
  },
  {
   "cell_type": "code",
   "execution_count": null,
   "id": "01c33146",
   "metadata": {},
   "outputs": [],
   "source": []
  },
  {
   "cell_type": "markdown",
   "id": "abf40428",
   "metadata": {},
   "source": [
    "### Q2. Define the different types of statistics and give an example of when each type might be used."
   ]
  },
  {
   "cell_type": "markdown",
   "id": "57611da1",
   "metadata": {},
   "source": [
    "There are two main types of statistics : Descriptive and Inferential statistics"
   ]
  },
  {
   "cell_type": "markdown",
   "id": "e177d1e5",
   "metadata": {},
   "source": [
    "__1. Descriptive statistics__: Descriptive statistics is the branch of statistics that deals with the summarization and description of data. It provides a summary of the data in a meaningful way, such as central tendency, variability, and distribution. Descriptive statistics are useful for analyzing data sets, detecting patterns and trends, and providing insights into the characteristics of the data\n",
    "\n",
    "__Example__: A company wants to analyze the sales data of their products over the past year. They use descriptive statistics to calculate the mean, median, mode, and standard deviation of the sales data to understand the central tendency, variability, and distribution of the sales."
   ]
  },
  {
   "cell_type": "markdown",
   "id": "a1cd48e4",
   "metadata": {},
   "source": [
    "__2. Inferential statistics__: Inferential statistics is the branch of statistics that deals with drawing conclusions about a population based on a sample of data. It involves making inferences about the population parameters using the information provided by the sample data. Inferential statistics are useful for making predictions, testing hypotheses, and determining the level of confidence in the results.\n",
    "\n",
    "__Example__: A pharmaceutical company wants to test the effectiveness of a new drug on a particular disease. They conduct a clinical trial with a sample of patients and use inferential statistics to determine whether the drug is effective in treating the disease in the entire population of patients with the disease"
   ]
  },
  {
   "cell_type": "code",
   "execution_count": null,
   "id": "c05be66d",
   "metadata": {},
   "outputs": [],
   "source": []
  },
  {
   "cell_type": "markdown",
   "id": "4545ddd0",
   "metadata": {},
   "source": [
    "### Q3. What are the different types of data and how do they differ from each other? Provide an example of each type of data."
   ]
  },
  {
   "cell_type": "markdown",
   "id": "f12df60b",
   "metadata": {},
   "source": [
    "Broadly Data is classified into two branches: __Qualitative Data and Quantative Data__"
   ]
  },
  {
   "cell_type": "markdown",
   "id": "777e6040",
   "metadata": {},
   "source": [
    "___Qualitative Data___ is further broken down into two types:\n",
    "\n",
    "__1. Discrete data__:Discrete data is a type of numerical data that consists of whole numbers or counts. It represents values that can only take on specific values within a certain range. Examples of discrete data include the number of students in a class, the number of cars in a parking lot, and the number of people who voted for a particular candidate in an election.\n",
    "    \n",
    "__2.Continous data__:Continuous data is a type of numerical data that can take on any value within a certain range. It represents values that can be measured and are typically represented by real numbers. Examples of continuous data include height, weight, temperature, and time"
   ]
  },
  {
   "cell_type": "markdown",
   "id": "4ffe4f6d",
   "metadata": {},
   "source": [
    "___Quantative Data___ is further broken down into two parts:\n",
    "    \n",
    "__1. Nominal data__: Nominal data is a type of categorical data that cannot be ordered or ranked. It consists of values that are distinct and mutually exclusive categories, with no inherent order or ranking. Examples of nominal data include gender, nationality, eye color, and favorite color.\n",
    "\n",
    "__2. Ordinal data__: Ordinal data is a type of categorical data that can be ordered or ranked. It consists of values that can be placed in a meaningful order but do not have a standard unit of measurement. Examples of ordinal data include educational level (such as high school, bachelor's degree, master's degree), income level (such as low, middle, high), and customer satisfaction ratings (such as very unsatisfied, somewhat satisfied, very satisfied).    "
   ]
  },
  {
   "cell_type": "code",
   "execution_count": null,
   "id": "9ce9e417",
   "metadata": {},
   "outputs": [],
   "source": []
  },
  {
   "cell_type": "markdown",
   "id": "d8efc53f",
   "metadata": {},
   "source": [
    "### Q4. Categorise the following datasets with respect to quantitative and qualitative data types:\n",
    "(i) Grading in exam: A+, A, B+, B, C+, C, D, E\n",
    "\n",
    "(ii) Colour of mangoes: yellow, green, orange, red\n",
    "\n",
    "(iii) Height data of a class: [178.9, 179, 179.5, 176, 177.2, 178.3, 175.8,...]\n",
    "\n",
    "(iv) Number of mangoes exported by a farm: [500, 600, 478, 672, ...]"
   ]
  },
  {
   "cell_type": "markdown",
   "id": "f084eaca",
   "metadata": {},
   "source": [
    "__Ans:__\n",
    "\n",
    "(i) Grading in exam: A+, A, B+, B, C+, C, D, E-->Qualitative Data"
   ]
  },
  {
   "cell_type": "markdown",
   "id": "b9072244",
   "metadata": {},
   "source": [
    "(ii) Colour of mangoes: yellow, green, orange, red-->Qualitative Data"
   ]
  },
  {
   "cell_type": "markdown",
   "id": "f9f4b061",
   "metadata": {},
   "source": [
    "(iii) Height data of a class: [178.9, 179, 179.5, 176, 177.2, 178.3, 175.8,...]-->Quantitative data"
   ]
  },
  {
   "cell_type": "markdown",
   "id": "07977808",
   "metadata": {},
   "source": [
    "(iv) Number of mangoes exported by a farm: [500, 600, 478, 672, ...]-->Quantitative data"
   ]
  },
  {
   "cell_type": "code",
   "execution_count": null,
   "id": "b56d99dc",
   "metadata": {},
   "outputs": [],
   "source": []
  },
  {
   "cell_type": "markdown",
   "id": "4e3dc0e5",
   "metadata": {},
   "source": [
    "### Q5. Explain the concept of levels of measurement and give an example of a variable for each level."
   ]
  },
  {
   "cell_type": "markdown",
   "id": "6649bdc6",
   "metadata": {},
   "source": [
    "__Nominal level of measurement__: This level of measurement is used for variables that can be categorized but cannot be ranked or ordered. ___Examples___ of nominal variables include gender, eye color, and marital status.\n",
    "\n",
    "__Ordinal level of measurement__: This level of measurement is used for variables that can be categorized and ranked but do not have a standard unit of measurement. ___Examples___ of ordinal variables include educational level (such as high school, bachelor's degree, master's degree), income level (such as low, middle, high), and customer satisfaction ratings (such as very unsatisfied, somewhat satisfied, very satisfied).\n",
    "\n",
    "__Interval level of measurement__: This level of measurement is used for variables that can be measured on a scale with equal intervals between the values but do not have a true zero point. ___Examples___ of interval variables include temperature in Celsius or Fahrenheit and time of day.\n",
    "\n",
    "__Ratio level of measurement__: This level of measurement is used for variables that can be measured on a scale with equal intervals between the values and have a true zero point. ___Examples___ of ratio variables include height, weight, age, and income."
   ]
  },
  {
   "cell_type": "code",
   "execution_count": null,
   "id": "de52acfa",
   "metadata": {},
   "outputs": [],
   "source": []
  },
  {
   "cell_type": "markdown",
   "id": "12c6660c",
   "metadata": {},
   "source": [
    "### Q6. Why is it important to understand the level of measurement when analyzing data? Provide an example to illustrate your answer."
   ]
  },
  {
   "cell_type": "markdown",
   "id": "e4982b67",
   "metadata": {},
   "source": [
    "Understanding the level of measurement of a variable is crucial when analyzing data because it determines the type of statistical analysis that can be performed, the appropriate measures of central tendency and variability to use, and the type of visualizations that can be created. Using inappropriate statistical analysis or measures can lead to incorrect conclusions and inaccurate interpretations of the data.\n",
    "\n",
    "__For example__, \n",
    "\n",
    "Consider a study that measures the blood pressure of patients before and after taking a new medication. Blood pressure is a ratio variable, meaning that it has a true zero point. Therefore, it would be appropriate to calculate the mean difference between the pre- and post-medication blood pressure values, as well as other measures of central tendency and variability such as the standard deviation.\n",
    "\n",
    "On the other hand, if the study had measured patients' satisfaction with the medication on a Likert scale (e.g., strongly agree, agree, neutral, disagree, strongly disagree), this would be an ordinal variable. In this case, calculating the mean satisfaction score would not be appropriate, and instead, measures such as the median or mode would be more suitable."
   ]
  },
  {
   "cell_type": "code",
   "execution_count": null,
   "id": "34c7105e",
   "metadata": {},
   "outputs": [],
   "source": []
  },
  {
   "cell_type": "markdown",
   "id": "77d29f5b",
   "metadata": {},
   "source": [
    "### Q7. How nominal data type is different from ordinal data type."
   ]
  },
  {
   "cell_type": "markdown",
   "id": "507e2321",
   "metadata": {},
   "source": [
    "Here are five key differences between nominal and ordinal data:\n",
    "\n",
    "__1.Order__: The most significant difference between nominal and ordinal data is the order or ranking of the values. Nominal data values are not ordered, while ordinal data values are ordered.\n",
    "\n",
    "__2.Distances between values__: Another difference is the meaning and interpretation of the distances between values. In ordinal data, the distances between values are not meaningful or equal, while in nominal data, there are no distances between the values.\n",
    "\n",
    "__3.Measurement level__: Nominal data is at the lowest level of measurement in the hierarchy of data types, while ordinal data is at a higher level of measurement. This means that ordinal data is more informative than nominal data.\n",
    "\n",
    "__4.Analysis__: The methods used to analyze nominal and ordinal data are different. Nominal data is typically analyzed using measures of frequency distribution, such as counts and percentages, while ordinal data is analyzed using rank-based tests and measures of central tendency such as median.\n",
    "\n",
    "__5.Arithmetic operations__: Arithmetic operations such as addition, subtraction, multiplication, and division are not meaningful for nominal data. On the other hand, arithmetic operations can be performed on ordinal data, but the results are not always meaningful due to the lack of equal intervals.\n",
    "\n",
    "__6.Range__: The range of possible values for nominal data is finite and limited to the distinct categories or labels. In contrast, ordinal data has a finite range of values, but the distance between the values is not uniform, and the values can be continuous or discrete.\n",
    "\n",
    "__7.Examples__: Nominal data examples include gender, religion, and occupation, while ordinal data examples include educational level, income bracket, and customer satisfaction ratings."
   ]
  },
  {
   "cell_type": "code",
   "execution_count": null,
   "id": "189ee18f",
   "metadata": {},
   "outputs": [],
   "source": []
  },
  {
   "cell_type": "markdown",
   "id": "0bc7a458",
   "metadata": {},
   "source": [
    "### Q8. Which type of plot can be used to display data in terms of range?"
   ]
  },
  {
   "cell_type": "markdown",
   "id": "d9c4f1f0",
   "metadata": {},
   "source": [
    "A range plot is a type of plot that is commonly used to display data in terms of range. This type of plot is useful when you want to show the spread or variation of a dataset. Range plots typically display the minimum and maximum values of a dataset, as well as any outliers.\n",
    "\n",
    "One common type of range plot is the box plot or box and whisker plot. In a box plot, the box represents the interquartile range (IQR), which is the range between the 25th and 75th percentiles of the data. The line inside the box represents the median of the data. The whiskers extending from the box show the range of the data, with outliers represented as individual points.\n",
    "\n",
    "Another type of range plot is the range bar chart, which is similar to a regular bar chart but displays the range of the data instead of just the mean or median. Each bar in a range bar chart represents a range of values, with the height of the bar indicating the range between the minimum and maximum values."
   ]
  },
  {
   "cell_type": "code",
   "execution_count": null,
   "id": "39f6f62b",
   "metadata": {},
   "outputs": [],
   "source": []
  },
  {
   "cell_type": "markdown",
   "id": "68279e1c",
   "metadata": {},
   "source": [
    "### Q9. Describe the difference between descriptive and inferential statistics. Give an example of each type of statistics and explain how they are used."
   ]
  },
  {
   "cell_type": "markdown",
   "id": "00b54bd3",
   "metadata": {},
   "source": [
    "Descriptive statistics and inferential statistics are two broad categories of statistical analysis that are used to analyze and interpret data.\n",
    "\n",
    "__Descriptive statistics__ involves summarizing and describing a set of data using measures such as mean, median, mode, standard deviation, and range. Descriptive statistics are used to provide a clear and concise summary of a dataset, helping to identify patterns and relationships within the data. Descriptive statistics can be used to describe the characteristics of a sample or an entire population. For example, if you wanted to describe the average height of a sample of students in a class, you would use descriptive statistics to calculate the mean height of the sample.\n",
    "\n",
    "__Inferential statistics__, on the other hand, involves using a sample of data to make inferences or generalizations about an entire population. Inferential statistics uses statistical tests and models to make predictions about a population based on a sample of data. Inferential statistics are used to test hypotheses and make predictions about the likelihood of events occurring in the future. For example, if you wanted to test whether a new drug was effective in treating a disease, you would use inferential statistics to analyze the results of a clinical trial and make predictions about the effectiveness of the drug in the broader population.\n",
    "\n",
    "An example of descriptive statistics is the calculation of the mean and standard deviation of a set of test scores for a group of students. This would give an overview of the performance of the students in the class.\n",
    "\n",
    "An example of inferential statistics is a hypothesis test to determine if there is a significant difference in the mean test scores between two groups of students. This would help determine if one group performed significantly better than the other."
   ]
  },
  {
   "cell_type": "code",
   "execution_count": null,
   "id": "8fc149c9",
   "metadata": {},
   "outputs": [],
   "source": []
  },
  {
   "cell_type": "markdown",
   "id": "3457c2bb",
   "metadata": {},
   "source": [
    "### Q10. What are some common measures of central tendency and variability used in statistics? Explain how each measure can be used to describe a dataset."
   ]
  },
  {
   "cell_type": "markdown",
   "id": "e2f5bad6",
   "metadata": {},
   "source": [
    "Measures of central tendency and variability are statistical measures that are used to describe the characteristics of a dataset. Here are some common measures of central tendency and variability used in statistics:\n",
    "\n",
    "___Measures of Central Tendency___:\n",
    "\n",
    "__Mean__: The mean is the average value of a dataset, calculated by adding all the values and dividing by the total number of values. The mean is a useful measure of central tendency when the data is normally distributed or symmetrical.\n",
    "\n",
    "__Median__: The median is the middle value in a dataset when the values are arranged in order from smallest to largest. The median is a useful measure of central tendency when the data is skewed or has outliers.\n",
    "\n",
    "__Mode__: The mode is the most frequently occurring value in a dataset. The mode is a useful measure of central tendency when the data has distinct peaks or modes.\n",
    "\n",
    "___Measures of Variability___:\n",
    "\n",
    "__Range__: The range is the difference between the largest and smallest values in a dataset. The range is a useful measure of variability when you want to see the spread of the data.\n",
    "\n",
    "__Variance__: The variance measures how much the data deviates from the mean. The variance is calculated by squaring the difference between each value and the mean, summing these squared differences, and dividing by the total number of values minus one. The variance is a useful measure of variability when you want to compare the spread of two or more datasets.\n",
    "\n",
    "__Standard Deviation__: The standard deviation is the square root of the variance. The standard deviation measures how much the data deviates from the mean and is often used as a measure of the spread of a dataset. The standard deviation is a useful measure of variability when you want to compare the spread of two or more datasets and is also commonly used in hypothesis testing."
   ]
  },
  {
   "cell_type": "code",
   "execution_count": null,
   "id": "5370e3a2",
   "metadata": {},
   "outputs": [],
   "source": []
  }
 ],
 "metadata": {
  "kernelspec": {
   "display_name": "Python 3 (ipykernel)",
   "language": "python",
   "name": "python3"
  },
  "language_info": {
   "codemirror_mode": {
    "name": "ipython",
    "version": 3
   },
   "file_extension": ".py",
   "mimetype": "text/x-python",
   "name": "python",
   "nbconvert_exporter": "python",
   "pygments_lexer": "ipython3",
   "version": "3.9.7"
  }
 },
 "nbformat": 4,
 "nbformat_minor": 5
}
